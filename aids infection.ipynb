{
 "cells": [
  {
   "cell_type": "code",
   "execution_count": 1,
   "id": "0703c413",
   "metadata": {},
   "outputs": [],
   "source": [
    "import numpy as np\n",
    "import pandas as pd\n",
    "import matplotlib.pyplot as plt\n",
    "import seaborn as sns"
   ]
  },
  {
   "cell_type": "code",
   "execution_count": 2,
   "id": "3b1784ec",
   "metadata": {},
   "outputs": [
    {
     "data": {
      "text/html": [
       "<div>\n",
       "<style scoped>\n",
       "    .dataframe tbody tr th:only-of-type {\n",
       "        vertical-align: middle;\n",
       "    }\n",
       "\n",
       "    .dataframe tbody tr th {\n",
       "        vertical-align: top;\n",
       "    }\n",
       "\n",
       "    .dataframe thead th {\n",
       "        text-align: right;\n",
       "    }\n",
       "</style>\n",
       "<table border=\"1\" class=\"dataframe\">\n",
       "  <thead>\n",
       "    <tr style=\"text-align: right;\">\n",
       "      <th></th>\n",
       "      <th>time</th>\n",
       "      <th>trt</th>\n",
       "      <th>age</th>\n",
       "      <th>wtkg</th>\n",
       "      <th>hemo</th>\n",
       "      <th>homo</th>\n",
       "      <th>drugs</th>\n",
       "      <th>karnof</th>\n",
       "      <th>oprior</th>\n",
       "      <th>z30</th>\n",
       "      <th>...</th>\n",
       "      <th>str2</th>\n",
       "      <th>strat</th>\n",
       "      <th>symptom</th>\n",
       "      <th>treat</th>\n",
       "      <th>offtrt</th>\n",
       "      <th>cd40</th>\n",
       "      <th>cd420</th>\n",
       "      <th>cd80</th>\n",
       "      <th>cd820</th>\n",
       "      <th>infected</th>\n",
       "    </tr>\n",
       "  </thead>\n",
       "  <tbody>\n",
       "    <tr>\n",
       "      <th>17902</th>\n",
       "      <td>828</td>\n",
       "      <td>3</td>\n",
       "      <td>20</td>\n",
       "      <td>67.24205</td>\n",
       "      <td>0</td>\n",
       "      <td>1</td>\n",
       "      <td>0</td>\n",
       "      <td>100</td>\n",
       "      <td>0</td>\n",
       "      <td>1</td>\n",
       "      <td>...</td>\n",
       "      <td>0</td>\n",
       "      <td>3</td>\n",
       "      <td>1</td>\n",
       "      <td>1</td>\n",
       "      <td>0</td>\n",
       "      <td>252</td>\n",
       "      <td>432</td>\n",
       "      <td>1032</td>\n",
       "      <td>771</td>\n",
       "      <td>0</td>\n",
       "    </tr>\n",
       "    <tr>\n",
       "      <th>28516</th>\n",
       "      <td>474</td>\n",
       "      <td>0</td>\n",
       "      <td>21</td>\n",
       "      <td>80.96065</td>\n",
       "      <td>0</td>\n",
       "      <td>0</td>\n",
       "      <td>0</td>\n",
       "      <td>100</td>\n",
       "      <td>1</td>\n",
       "      <td>1</td>\n",
       "      <td>...</td>\n",
       "      <td>1</td>\n",
       "      <td>3</td>\n",
       "      <td>0</td>\n",
       "      <td>0</td>\n",
       "      <td>0</td>\n",
       "      <td>235</td>\n",
       "      <td>340</td>\n",
       "      <td>812</td>\n",
       "      <td>1006</td>\n",
       "      <td>1</td>\n",
       "    </tr>\n",
       "    <tr>\n",
       "      <th>48739</th>\n",
       "      <td>476</td>\n",
       "      <td>3</td>\n",
       "      <td>40</td>\n",
       "      <td>70.44513</td>\n",
       "      <td>0</td>\n",
       "      <td>1</td>\n",
       "      <td>0</td>\n",
       "      <td>100</td>\n",
       "      <td>0</td>\n",
       "      <td>0</td>\n",
       "      <td>...</td>\n",
       "      <td>0</td>\n",
       "      <td>1</td>\n",
       "      <td>0</td>\n",
       "      <td>0</td>\n",
       "      <td>1</td>\n",
       "      <td>396</td>\n",
       "      <td>399</td>\n",
       "      <td>801</td>\n",
       "      <td>1458</td>\n",
       "      <td>0</td>\n",
       "    </tr>\n",
       "    <tr>\n",
       "      <th>46224</th>\n",
       "      <td>1028</td>\n",
       "      <td>2</td>\n",
       "      <td>33</td>\n",
       "      <td>88.05692</td>\n",
       "      <td>0</td>\n",
       "      <td>1</td>\n",
       "      <td>0</td>\n",
       "      <td>100</td>\n",
       "      <td>0</td>\n",
       "      <td>0</td>\n",
       "      <td>...</td>\n",
       "      <td>0</td>\n",
       "      <td>1</td>\n",
       "      <td>0</td>\n",
       "      <td>1</td>\n",
       "      <td>1</td>\n",
       "      <td>247</td>\n",
       "      <td>319</td>\n",
       "      <td>1437</td>\n",
       "      <td>1508</td>\n",
       "      <td>0</td>\n",
       "    </tr>\n",
       "    <tr>\n",
       "      <th>2616</th>\n",
       "      <td>1180</td>\n",
       "      <td>1</td>\n",
       "      <td>42</td>\n",
       "      <td>63.25196</td>\n",
       "      <td>0</td>\n",
       "      <td>1</td>\n",
       "      <td>0</td>\n",
       "      <td>100</td>\n",
       "      <td>0</td>\n",
       "      <td>1</td>\n",
       "      <td>...</td>\n",
       "      <td>1</td>\n",
       "      <td>3</td>\n",
       "      <td>0</td>\n",
       "      <td>1</td>\n",
       "      <td>0</td>\n",
       "      <td>243</td>\n",
       "      <td>244</td>\n",
       "      <td>2169</td>\n",
       "      <td>538</td>\n",
       "      <td>1</td>\n",
       "    </tr>\n",
       "    <tr>\n",
       "      <th>30358</th>\n",
       "      <td>1085</td>\n",
       "      <td>1</td>\n",
       "      <td>35</td>\n",
       "      <td>92.36579</td>\n",
       "      <td>0</td>\n",
       "      <td>1</td>\n",
       "      <td>0</td>\n",
       "      <td>100</td>\n",
       "      <td>0</td>\n",
       "      <td>0</td>\n",
       "      <td>...</td>\n",
       "      <td>0</td>\n",
       "      <td>1</td>\n",
       "      <td>0</td>\n",
       "      <td>0</td>\n",
       "      <td>0</td>\n",
       "      <td>226</td>\n",
       "      <td>656</td>\n",
       "      <td>2071</td>\n",
       "      <td>682</td>\n",
       "      <td>0</td>\n",
       "    </tr>\n",
       "    <tr>\n",
       "      <th>12261</th>\n",
       "      <td>774</td>\n",
       "      <td>0</td>\n",
       "      <td>32</td>\n",
       "      <td>82.38694</td>\n",
       "      <td>0</td>\n",
       "      <td>1</td>\n",
       "      <td>0</td>\n",
       "      <td>100</td>\n",
       "      <td>0</td>\n",
       "      <td>1</td>\n",
       "      <td>...</td>\n",
       "      <td>1</td>\n",
       "      <td>3</td>\n",
       "      <td>0</td>\n",
       "      <td>1</td>\n",
       "      <td>0</td>\n",
       "      <td>283</td>\n",
       "      <td>384</td>\n",
       "      <td>757</td>\n",
       "      <td>682</td>\n",
       "      <td>1</td>\n",
       "    </tr>\n",
       "  </tbody>\n",
       "</table>\n",
       "<p>7 rows × 23 columns</p>\n",
       "</div>"
      ],
      "text/plain": [
       "       time  trt  age      wtkg  hemo  homo  drugs  karnof  oprior  z30  ...  \\\n",
       "17902   828    3   20  67.24205     0     1      0     100       0    1  ...   \n",
       "28516   474    0   21  80.96065     0     0      0     100       1    1  ...   \n",
       "48739   476    3   40  70.44513     0     1      0     100       0    0  ...   \n",
       "46224  1028    2   33  88.05692     0     1      0     100       0    0  ...   \n",
       "2616   1180    1   42  63.25196     0     1      0     100       0    1  ...   \n",
       "30358  1085    1   35  92.36579     0     1      0     100       0    0  ...   \n",
       "12261   774    0   32  82.38694     0     1      0     100       0    1  ...   \n",
       "\n",
       "       str2  strat  symptom  treat  offtrt  cd40  cd420  cd80  cd820  infected  \n",
       "17902     0      3        1      1       0   252    432  1032    771         0  \n",
       "28516     1      3        0      0       0   235    340   812   1006         1  \n",
       "48739     0      1        0      0       1   396    399   801   1458         0  \n",
       "46224     0      1        0      1       1   247    319  1437   1508         0  \n",
       "2616      1      3        0      1       0   243    244  2169    538         1  \n",
       "30358     0      1        0      0       0   226    656  2071    682         0  \n",
       "12261     1      3        0      1       0   283    384   757    682         1  \n",
       "\n",
       "[7 rows x 23 columns]"
      ]
     },
     "execution_count": 2,
     "metadata": {},
     "output_type": "execute_result"
    }
   ],
   "source": [
    "df = pd.read_csv(r\"C:\\Coding\\Data Science\\Datasets\\AIDS_Classification_50000.csv\")\n",
    "df.sample(7)"
   ]
  },
  {
   "cell_type": "code",
   "execution_count": 3,
   "id": "af4e720b",
   "metadata": {},
   "outputs": [
    {
     "name": "stdout",
     "output_type": "stream",
     "text": [
      "<class 'pandas.core.frame.DataFrame'>\n",
      "RangeIndex: 50000 entries, 0 to 49999\n",
      "Data columns (total 23 columns):\n",
      " #   Column    Non-Null Count  Dtype  \n",
      "---  ------    --------------  -----  \n",
      " 0   time      50000 non-null  int64  \n",
      " 1   trt       50000 non-null  int64  \n",
      " 2   age       50000 non-null  int64  \n",
      " 3   wtkg      50000 non-null  float64\n",
      " 4   hemo      50000 non-null  int64  \n",
      " 5   homo      50000 non-null  int64  \n",
      " 6   drugs     50000 non-null  int64  \n",
      " 7   karnof    50000 non-null  int64  \n",
      " 8   oprior    50000 non-null  int64  \n",
      " 9   z30       50000 non-null  int64  \n",
      " 10  preanti   50000 non-null  int64  \n",
      " 11  race      50000 non-null  int64  \n",
      " 12  gender    50000 non-null  int64  \n",
      " 13  str2      50000 non-null  int64  \n",
      " 14  strat     50000 non-null  int64  \n",
      " 15  symptom   50000 non-null  int64  \n",
      " 16  treat     50000 non-null  int64  \n",
      " 17  offtrt    50000 non-null  int64  \n",
      " 18  cd40      50000 non-null  int64  \n",
      " 19  cd420     50000 non-null  int64  \n",
      " 20  cd80      50000 non-null  int64  \n",
      " 21  cd820     50000 non-null  int64  \n",
      " 22  infected  50000 non-null  int64  \n",
      "dtypes: float64(1), int64(22)\n",
      "memory usage: 8.8 MB\n"
     ]
    }
   ],
   "source": [
    "df.info()"
   ]
  },
  {
   "cell_type": "code",
   "execution_count": 4,
   "id": "3ed85dd4",
   "metadata": {},
   "outputs": [],
   "source": [
    "# All columns are numerical and there are no missing values\n",
    "# So we can start further analysis"
   ]
  },
  {
   "cell_type": "code",
   "execution_count": 5,
   "id": "923c8943",
   "metadata": {
    "scrolled": false
   },
   "outputs": [
    {
     "data": {
      "text/html": [
       "<div>\n",
       "<style scoped>\n",
       "    .dataframe tbody tr th:only-of-type {\n",
       "        vertical-align: middle;\n",
       "    }\n",
       "\n",
       "    .dataframe tbody tr th {\n",
       "        vertical-align: top;\n",
       "    }\n",
       "\n",
       "    .dataframe thead th {\n",
       "        text-align: right;\n",
       "    }\n",
       "</style>\n",
       "<table border=\"1\" class=\"dataframe\">\n",
       "  <thead>\n",
       "    <tr style=\"text-align: right;\">\n",
       "      <th></th>\n",
       "      <th>count</th>\n",
       "      <th>mean</th>\n",
       "      <th>std</th>\n",
       "      <th>min</th>\n",
       "      <th>25%</th>\n",
       "      <th>50%</th>\n",
       "      <th>75%</th>\n",
       "      <th>max</th>\n",
       "    </tr>\n",
       "  </thead>\n",
       "  <tbody>\n",
       "    <tr>\n",
       "      <th>time</th>\n",
       "      <td>50000.0</td>\n",
       "      <td>877.369780</td>\n",
       "      <td>307.288688</td>\n",
       "      <td>66.00000</td>\n",
       "      <td>542.000000</td>\n",
       "      <td>1045.000000</td>\n",
       "      <td>1136.000000</td>\n",
       "      <td>1231.00000</td>\n",
       "    </tr>\n",
       "    <tr>\n",
       "      <th>trt</th>\n",
       "      <td>50000.0</td>\n",
       "      <td>1.384800</td>\n",
       "      <td>1.233272</td>\n",
       "      <td>0.00000</td>\n",
       "      <td>0.000000</td>\n",
       "      <td>1.000000</td>\n",
       "      <td>3.000000</td>\n",
       "      <td>3.00000</td>\n",
       "    </tr>\n",
       "    <tr>\n",
       "      <th>age</th>\n",
       "      <td>50000.0</td>\n",
       "      <td>34.164020</td>\n",
       "      <td>7.091152</td>\n",
       "      <td>12.00000</td>\n",
       "      <td>29.000000</td>\n",
       "      <td>34.000000</td>\n",
       "      <td>39.000000</td>\n",
       "      <td>68.00000</td>\n",
       "    </tr>\n",
       "    <tr>\n",
       "      <th>wtkg</th>\n",
       "      <td>50000.0</td>\n",
       "      <td>75.861991</td>\n",
       "      <td>12.028730</td>\n",
       "      <td>42.36162</td>\n",
       "      <td>68.253682</td>\n",
       "      <td>74.054115</td>\n",
       "      <td>81.142185</td>\n",
       "      <td>149.83087</td>\n",
       "    </tr>\n",
       "    <tr>\n",
       "      <th>hemo</th>\n",
       "      <td>50000.0</td>\n",
       "      <td>0.033480</td>\n",
       "      <td>0.179888</td>\n",
       "      <td>0.00000</td>\n",
       "      <td>0.000000</td>\n",
       "      <td>0.000000</td>\n",
       "      <td>0.000000</td>\n",
       "      <td>1.00000</td>\n",
       "    </tr>\n",
       "    <tr>\n",
       "      <th>homo</th>\n",
       "      <td>50000.0</td>\n",
       "      <td>0.653540</td>\n",
       "      <td>0.475847</td>\n",
       "      <td>0.00000</td>\n",
       "      <td>0.000000</td>\n",
       "      <td>1.000000</td>\n",
       "      <td>1.000000</td>\n",
       "      <td>1.00000</td>\n",
       "    </tr>\n",
       "    <tr>\n",
       "      <th>drugs</th>\n",
       "      <td>50000.0</td>\n",
       "      <td>0.132220</td>\n",
       "      <td>0.338733</td>\n",
       "      <td>0.00000</td>\n",
       "      <td>0.000000</td>\n",
       "      <td>0.000000</td>\n",
       "      <td>0.000000</td>\n",
       "      <td>1.00000</td>\n",
       "    </tr>\n",
       "    <tr>\n",
       "      <th>karnof</th>\n",
       "      <td>50000.0</td>\n",
       "      <td>96.831560</td>\n",
       "      <td>5.091788</td>\n",
       "      <td>76.00000</td>\n",
       "      <td>90.000000</td>\n",
       "      <td>100.000000</td>\n",
       "      <td>100.000000</td>\n",
       "      <td>100.00000</td>\n",
       "    </tr>\n",
       "    <tr>\n",
       "      <th>oprior</th>\n",
       "      <td>50000.0</td>\n",
       "      <td>0.042300</td>\n",
       "      <td>0.201275</td>\n",
       "      <td>0.00000</td>\n",
       "      <td>0.000000</td>\n",
       "      <td>0.000000</td>\n",
       "      <td>0.000000</td>\n",
       "      <td>1.00000</td>\n",
       "    </tr>\n",
       "    <tr>\n",
       "      <th>z30</th>\n",
       "      <td>50000.0</td>\n",
       "      <td>0.640880</td>\n",
       "      <td>0.479747</td>\n",
       "      <td>0.00000</td>\n",
       "      <td>0.000000</td>\n",
       "      <td>1.000000</td>\n",
       "      <td>1.000000</td>\n",
       "      <td>1.00000</td>\n",
       "    </tr>\n",
       "    <tr>\n",
       "      <th>preanti</th>\n",
       "      <td>50000.0</td>\n",
       "      <td>318.159560</td>\n",
       "      <td>402.932765</td>\n",
       "      <td>0.00000</td>\n",
       "      <td>0.000000</td>\n",
       "      <td>123.000000</td>\n",
       "      <td>503.000000</td>\n",
       "      <td>2828.00000</td>\n",
       "    </tr>\n",
       "    <tr>\n",
       "      <th>race</th>\n",
       "      <td>50000.0</td>\n",
       "      <td>0.293300</td>\n",
       "      <td>0.455279</td>\n",
       "      <td>0.00000</td>\n",
       "      <td>0.000000</td>\n",
       "      <td>0.000000</td>\n",
       "      <td>1.000000</td>\n",
       "      <td>1.00000</td>\n",
       "    </tr>\n",
       "    <tr>\n",
       "      <th>gender</th>\n",
       "      <td>50000.0</td>\n",
       "      <td>0.856700</td>\n",
       "      <td>0.350382</td>\n",
       "      <td>0.00000</td>\n",
       "      <td>1.000000</td>\n",
       "      <td>1.000000</td>\n",
       "      <td>1.000000</td>\n",
       "      <td>1.00000</td>\n",
       "    </tr>\n",
       "    <tr>\n",
       "      <th>str2</th>\n",
       "      <td>50000.0</td>\n",
       "      <td>0.575200</td>\n",
       "      <td>0.494318</td>\n",
       "      <td>0.00000</td>\n",
       "      <td>0.000000</td>\n",
       "      <td>1.000000</td>\n",
       "      <td>1.000000</td>\n",
       "      <td>1.00000</td>\n",
       "    </tr>\n",
       "    <tr>\n",
       "      <th>strat</th>\n",
       "      <td>50000.0</td>\n",
       "      <td>1.936420</td>\n",
       "      <td>0.895318</td>\n",
       "      <td>1.00000</td>\n",
       "      <td>1.000000</td>\n",
       "      <td>2.000000</td>\n",
       "      <td>3.000000</td>\n",
       "      <td>3.00000</td>\n",
       "    </tr>\n",
       "    <tr>\n",
       "      <th>symptom</th>\n",
       "      <td>50000.0</td>\n",
       "      <td>0.083460</td>\n",
       "      <td>0.276579</td>\n",
       "      <td>0.00000</td>\n",
       "      <td>0.000000</td>\n",
       "      <td>0.000000</td>\n",
       "      <td>0.000000</td>\n",
       "      <td>1.00000</td>\n",
       "    </tr>\n",
       "    <tr>\n",
       "      <th>treat</th>\n",
       "      <td>50000.0</td>\n",
       "      <td>0.734160</td>\n",
       "      <td>0.441784</td>\n",
       "      <td>0.00000</td>\n",
       "      <td>0.000000</td>\n",
       "      <td>1.000000</td>\n",
       "      <td>1.000000</td>\n",
       "      <td>1.00000</td>\n",
       "    </tr>\n",
       "    <tr>\n",
       "      <th>offtrt</th>\n",
       "      <td>50000.0</td>\n",
       "      <td>0.342220</td>\n",
       "      <td>0.474458</td>\n",
       "      <td>0.00000</td>\n",
       "      <td>0.000000</td>\n",
       "      <td>0.000000</td>\n",
       "      <td>1.000000</td>\n",
       "      <td>1.00000</td>\n",
       "    </tr>\n",
       "    <tr>\n",
       "      <th>cd40</th>\n",
       "      <td>50000.0</td>\n",
       "      <td>319.079540</td>\n",
       "      <td>102.525976</td>\n",
       "      <td>0.00000</td>\n",
       "      <td>236.000000</td>\n",
       "      <td>299.000000</td>\n",
       "      <td>396.000000</td>\n",
       "      <td>930.00000</td>\n",
       "    </tr>\n",
       "    <tr>\n",
       "      <th>cd420</th>\n",
       "      <td>50000.0</td>\n",
       "      <td>438.090100</td>\n",
       "      <td>144.806831</td>\n",
       "      <td>81.00000</td>\n",
       "      <td>327.000000</td>\n",
       "      <td>415.000000</td>\n",
       "      <td>531.000000</td>\n",
       "      <td>1119.00000</td>\n",
       "    </tr>\n",
       "    <tr>\n",
       "      <th>cd80</th>\n",
       "      <td>50000.0</td>\n",
       "      <td>1045.936440</td>\n",
       "      <td>488.617434</td>\n",
       "      <td>96.00000</td>\n",
       "      <td>713.000000</td>\n",
       "      <td>885.000000</td>\n",
       "      <td>1245.000000</td>\n",
       "      <td>4656.00000</td>\n",
       "    </tr>\n",
       "    <tr>\n",
       "      <th>cd820</th>\n",
       "      <td>50000.0</td>\n",
       "      <td>905.938440</td>\n",
       "      <td>339.707976</td>\n",
       "      <td>173.00000</td>\n",
       "      <td>649.000000</td>\n",
       "      <td>858.000000</td>\n",
       "      <td>1084.000000</td>\n",
       "      <td>3538.00000</td>\n",
       "    </tr>\n",
       "    <tr>\n",
       "      <th>infected</th>\n",
       "      <td>50000.0</td>\n",
       "      <td>0.310120</td>\n",
       "      <td>0.462547</td>\n",
       "      <td>0.00000</td>\n",
       "      <td>0.000000</td>\n",
       "      <td>0.000000</td>\n",
       "      <td>1.000000</td>\n",
       "      <td>1.00000</td>\n",
       "    </tr>\n",
       "  </tbody>\n",
       "</table>\n",
       "</div>"
      ],
      "text/plain": [
       "            count         mean         std        min         25%  \\\n",
       "time      50000.0   877.369780  307.288688   66.00000  542.000000   \n",
       "trt       50000.0     1.384800    1.233272    0.00000    0.000000   \n",
       "age       50000.0    34.164020    7.091152   12.00000   29.000000   \n",
       "wtkg      50000.0    75.861991   12.028730   42.36162   68.253682   \n",
       "hemo      50000.0     0.033480    0.179888    0.00000    0.000000   \n",
       "homo      50000.0     0.653540    0.475847    0.00000    0.000000   \n",
       "drugs     50000.0     0.132220    0.338733    0.00000    0.000000   \n",
       "karnof    50000.0    96.831560    5.091788   76.00000   90.000000   \n",
       "oprior    50000.0     0.042300    0.201275    0.00000    0.000000   \n",
       "z30       50000.0     0.640880    0.479747    0.00000    0.000000   \n",
       "preanti   50000.0   318.159560  402.932765    0.00000    0.000000   \n",
       "race      50000.0     0.293300    0.455279    0.00000    0.000000   \n",
       "gender    50000.0     0.856700    0.350382    0.00000    1.000000   \n",
       "str2      50000.0     0.575200    0.494318    0.00000    0.000000   \n",
       "strat     50000.0     1.936420    0.895318    1.00000    1.000000   \n",
       "symptom   50000.0     0.083460    0.276579    0.00000    0.000000   \n",
       "treat     50000.0     0.734160    0.441784    0.00000    0.000000   \n",
       "offtrt    50000.0     0.342220    0.474458    0.00000    0.000000   \n",
       "cd40      50000.0   319.079540  102.525976    0.00000  236.000000   \n",
       "cd420     50000.0   438.090100  144.806831   81.00000  327.000000   \n",
       "cd80      50000.0  1045.936440  488.617434   96.00000  713.000000   \n",
       "cd820     50000.0   905.938440  339.707976  173.00000  649.000000   \n",
       "infected  50000.0     0.310120    0.462547    0.00000    0.000000   \n",
       "\n",
       "                  50%          75%         max  \n",
       "time      1045.000000  1136.000000  1231.00000  \n",
       "trt          1.000000     3.000000     3.00000  \n",
       "age         34.000000    39.000000    68.00000  \n",
       "wtkg        74.054115    81.142185   149.83087  \n",
       "hemo         0.000000     0.000000     1.00000  \n",
       "homo         1.000000     1.000000     1.00000  \n",
       "drugs        0.000000     0.000000     1.00000  \n",
       "karnof     100.000000   100.000000   100.00000  \n",
       "oprior       0.000000     0.000000     1.00000  \n",
       "z30          1.000000     1.000000     1.00000  \n",
       "preanti    123.000000   503.000000  2828.00000  \n",
       "race         0.000000     1.000000     1.00000  \n",
       "gender       1.000000     1.000000     1.00000  \n",
       "str2         1.000000     1.000000     1.00000  \n",
       "strat        2.000000     3.000000     3.00000  \n",
       "symptom      0.000000     0.000000     1.00000  \n",
       "treat        1.000000     1.000000     1.00000  \n",
       "offtrt       0.000000     1.000000     1.00000  \n",
       "cd40       299.000000   396.000000   930.00000  \n",
       "cd420      415.000000   531.000000  1119.00000  \n",
       "cd80       885.000000  1245.000000  4656.00000  \n",
       "cd820      858.000000  1084.000000  3538.00000  \n",
       "infected     0.000000     1.000000     1.00000  "
      ]
     },
     "execution_count": 5,
     "metadata": {},
     "output_type": "execute_result"
    }
   ],
   "source": [
    "df.describe().T"
   ]
  },
  {
   "cell_type": "code",
   "execution_count": 6,
   "id": "2c9328fa",
   "metadata": {},
   "outputs": [
    {
     "data": {
      "text/plain": [
       "0"
      ]
     },
     "execution_count": 6,
     "metadata": {},
     "output_type": "execute_result"
    }
   ],
   "source": [
    "df.duplicated().sum()"
   ]
  },
  {
   "cell_type": "code",
   "execution_count": 7,
   "id": "16337c6d",
   "metadata": {},
   "outputs": [],
   "source": [
    "X = df.iloc[:, :-1]\n",
    "y = df.iloc[:, -1]"
   ]
  },
  {
   "cell_type": "code",
   "execution_count": 8,
   "id": "f6b1aea5",
   "metadata": {},
   "outputs": [
    {
     "data": {
      "text/plain": [
       "<Figure size 1100x700 with 0 Axes>"
      ]
     },
     "metadata": {},
     "output_type": "display_data"
    },
    {
     "data": {
      "image/png": "[encoded data removed]",
      "text/plain": [
       "<Figure size 500x500 with 1 Axes>"
      ]
     },
     "metadata": {},
     "output_type": "display_data"
    }
   ],
   "source": [
    "plt.figure(figsize = (11, 7))\n",
    "sns.displot(data = df, x = 'age', bins = 8, kde = True, color = 'm', alpha = 0.65)\n",
    "plt.show()"
   ]
  },
  {
   "cell_type": "code",
   "execution_count": 9,
   "id": "85a6fbf3",
   "metadata": {},
   "outputs": [
    {
     "data": {
      "text/plain": [
       "0.2103081587707646"
      ]
     },
     "execution_count": 9,
     "metadata": {},
     "output_type": "execute_result"
    }
   ],
   "source": [
    "df['age'].skew()\n",
    "# We can consider age to be almost normally distributed\n",
    "# As is evident from the graphs as well"
   ]
  },
  {
   "cell_type": "code",
   "execution_count": 10,
   "id": "8ffdf211",
   "metadata": {},
   "outputs": [
    {
     "data": {
      "text/plain": [
       "0    34494\n",
       "1    15506\n",
       "Name: infected, dtype: int64"
      ]
     },
     "execution_count": 10,
     "metadata": {},
     "output_type": "execute_result"
    }
   ],
   "source": [
    "df.infected.value_counts()"
   ]
  },
  {
   "cell_type": "code",
   "execution_count": 11,
   "id": "eb5f110c",
   "metadata": {
    "scrolled": false
   },
   "outputs": [
    {
     "data": {
      "image/png": "[encoded data removed]",
      "text/plain": [
       "<Figure size 640x480 with 1 Axes>"
      ]
     },
     "metadata": {},
     "output_type": "display_data"
    }
   ],
   "source": [
    "plt.hist(df['time'])\n",
    "plt.xlabel('time')\n",
    "plt.show()"
   ]
  },
  {
   "cell_type": "code",
   "execution_count": 12,
   "id": "3de7f767",
   "metadata": {
    "scrolled": false
   },
   "outputs": [
    {
     "data": {
      "image/png": "[encoded data removed]",
      "text/plain": [
       "<Figure size 640x480 with 1 Axes>"
      ]
     },
     "metadata": {},
     "output_type": "display_data"
    }
   ],
   "source": [
    "sns.boxplot(data = df, y = 'time', orient = 'v')\n",
    "plt.ylabel('time')\n",
    "plt.show()"
   ]
  },
  {
   "cell_type": "code",
   "execution_count": 13,
   "id": "d90cbcae",
   "metadata": {},
   "outputs": [
    {
     "data": {
      "image/png": "[encoded data removed]",
      "text/plain": [
       "<Figure size 640x480 with 1 Axes>"
      ]
     },
     "metadata": {},
     "output_type": "display_data"
    }
   ],
   "source": [
    "sns.countplot(data = df, x = 'trt', palette = 'husl')\n",
    "plt.xlabel('Treatment indicator')\n",
    "plt.show()"
   ]
  },
  {
   "cell_type": "code",
   "execution_count": 14,
   "id": "d7514737",
   "metadata": {},
   "outputs": [
    {
     "data": {
      "image/png": "[encoded data removed]",
      "text/plain": [
       "<Figure size 640x480 with 1 Axes>"
      ]
     },
     "metadata": {},
     "output_type": "display_data"
    }
   ],
   "source": [
    "sns.boxplot(data = df, y = 'wtkg', orient = 'v', saturation = 0.6)\n",
    "plt.ylabel('Weight (kg) at baseline')\n",
    "plt.show()"
   ]
  },
  {
   "cell_type": "code",
   "execution_count": 15,
   "id": "291cecd9",
   "metadata": {},
   "outputs": [
    {
     "data": {
      "image/png": "[encoded data removed]",
      "text/plain": [
       "<Figure size 500x500 with 1 Axes>"
      ]
     },
     "metadata": {},
     "output_type": "display_data"
    }
   ],
   "source": [
    "sns.displot(data = df, x = 'wtkg')\n",
    "plt.xlabel('Weight (kg) at baseline')\n",
    "plt.show()"
   ]
  },
  {
   "cell_type": "code",
   "execution_count": 16,
   "id": "8beaaa04",
   "metadata": {},
   "outputs": [
    {
     "data": {
      "text/plain": [
       "0    48326\n",
       "1     1674\n",
       "Name: hemo, dtype: int64"
      ]
     },
     "execution_count": 16,
     "metadata": {},
     "output_type": "execute_result"
    }
   ],
   "source": [
    "df.hemo.value_counts()"
   ]
  },
  {
   "cell_type": "code",
   "execution_count": 17,
   "id": "6cb32f84",
   "metadata": {},
   "outputs": [
    {
     "data": {
      "image/png": "[encoded data removed]",
      "text/plain": [
       "<Figure size 500x500 with 1 Axes>"
      ]
     },
     "metadata": {},
     "output_type": "display_data"
    }
   ],
   "source": [
    "sns.displot(data = df, x = 'karnof')\n",
    "plt.xlabel('Karnofsky score')\n",
    "plt.show()"
   ]
  },
  {
   "cell_type": "code",
   "execution_count": 18,
   "id": "3a8ce363",
   "metadata": {},
   "outputs": [
    {
     "data": {
      "text/plain": [
       "76         1\n",
       "77         2\n",
       "78        24\n",
       "79       173\n",
       "80       331\n",
       "81       400\n",
       "82       185\n",
       "83        49\n",
       "84         2\n",
       "89         5\n",
       "90     13519\n",
       "91        59\n",
       "100    35250\n",
       "Name: karnof, dtype: int64"
      ]
     },
     "execution_count": 18,
     "metadata": {},
     "output_type": "execute_result"
    }
   ],
   "source": [
    "df.karnof.value_counts().sort_index()"
   ]
  },
  {
   "cell_type": "code",
   "execution_count": 19,
   "id": "8591a96e",
   "metadata": {},
   "outputs": [
    {
     "data": {
      "text/plain": [
       "1    32677\n",
       "0    17323\n",
       "Name: homo, dtype: int64"
      ]
     },
     "execution_count": 19,
     "metadata": {},
     "output_type": "execute_result"
    }
   ],
   "source": [
    "df.homo.value_counts()"
   ]
  },
  {
   "cell_type": "code",
   "execution_count": 20,
   "id": "8f82dc14",
   "metadata": {},
   "outputs": [
    {
     "data": {
      "text/plain": [
       "0    43389\n",
       "1     6611\n",
       "Name: drugs, dtype: int64"
      ]
     },
     "execution_count": 20,
     "metadata": {},
     "output_type": "execute_result"
    }
   ],
   "source": [
    "df.drugs.value_counts()"
   ]
  },
  {
   "cell_type": "code",
   "execution_count": 21,
   "id": "e375c05a",
   "metadata": {},
   "outputs": [
    {
     "data": {
      "text/plain": [
       "0    35335\n",
       "1    14665\n",
       "Name: race, dtype: int64"
      ]
     },
     "execution_count": 21,
     "metadata": {},
     "output_type": "execute_result"
    }
   ],
   "source": [
    "df.race.value_counts()"
   ]
  },
  {
   "cell_type": "code",
   "execution_count": 22,
   "id": "1d7fdd1b",
   "metadata": {},
   "outputs": [
    {
     "data": {
      "text/plain": [
       "1    32044\n",
       "0    17956\n",
       "Name: z30, dtype: int64"
      ]
     },
     "execution_count": 22,
     "metadata": {},
     "output_type": "execute_result"
    }
   ],
   "source": [
    "df.z30.value_counts()"
   ]
  },
  {
   "cell_type": "code",
   "execution_count": 23,
   "id": "d255a6b1",
   "metadata": {},
   "outputs": [
    {
     "data": {
      "text/plain": [
       "0    47885\n",
       "1     2115\n",
       "Name: oprior, dtype: int64"
      ]
     },
     "execution_count": 23,
     "metadata": {},
     "output_type": "execute_result"
    }
   ],
   "source": [
    "df.oprior.value_counts()"
   ]
  },
  {
   "cell_type": "code",
   "execution_count": 24,
   "id": "0e839119",
   "metadata": {},
   "outputs": [
    {
     "data": {
      "text/plain": [
       "1    42835\n",
       "0     7165\n",
       "Name: gender, dtype: int64"
      ]
     },
     "execution_count": 24,
     "metadata": {},
     "output_type": "execute_result"
    }
   ],
   "source": [
    "df.gender.value_counts()"
   ]
  },
  {
   "cell_type": "code",
   "execution_count": 25,
   "id": "51288858",
   "metadata": {},
   "outputs": [
    {
     "data": {
      "text/plain": [
       "1    21730\n",
       "3    18551\n",
       "2     9719\n",
       "Name: strat, dtype: int64"
      ]
     },
     "execution_count": 25,
     "metadata": {},
     "output_type": "execute_result"
    }
   ],
   "source": [
    "df.strat.value_counts()"
   ]
  },
  {
   "cell_type": "code",
   "execution_count": 26,
   "id": "1a38f581",
   "metadata": {},
   "outputs": [
    {
     "data": {
      "text/plain": [
       "1    28760\n",
       "0    21240\n",
       "Name: str2, dtype: int64"
      ]
     },
     "execution_count": 26,
     "metadata": {},
     "output_type": "execute_result"
    }
   ],
   "source": [
    "df.str2.value_counts()"
   ]
  },
  {
   "cell_type": "code",
   "execution_count": 27,
   "id": "99eb6baa",
   "metadata": {},
   "outputs": [
    {
     "data": {
      "text/plain": [
       "0    45827\n",
       "1     4173\n",
       "Name: symptom, dtype: int64"
      ]
     },
     "execution_count": 27,
     "metadata": {},
     "output_type": "execute_result"
    }
   ],
   "source": [
    "df.symptom.value_counts()"
   ]
  },
  {
   "cell_type": "code",
   "execution_count": 28,
   "id": "aee31678",
   "metadata": {},
   "outputs": [
    {
     "data": {
      "text/plain": [
       "1    36708\n",
       "0    13292\n",
       "Name: treat, dtype: int64"
      ]
     },
     "execution_count": 28,
     "metadata": {},
     "output_type": "execute_result"
    }
   ],
   "source": [
    "df.treat.value_counts()"
   ]
  },
  {
   "cell_type": "code",
   "execution_count": 29,
   "id": "f89f1c48",
   "metadata": {},
   "outputs": [
    {
     "data": {
      "text/plain": [
       "0    32889\n",
       "1    17111\n",
       "Name: offtrt, dtype: int64"
      ]
     },
     "execution_count": 29,
     "metadata": {},
     "output_type": "execute_result"
    }
   ],
   "source": [
    "df.offtrt.value_counts()"
   ]
  },
  {
   "cell_type": "code",
   "execution_count": 30,
   "id": "9d9dbefd",
   "metadata": {},
   "outputs": [
    {
     "data": {
      "image/png": "[encoded data removed]",
      "text/plain": [
       "<Figure size 500x500 with 1 Axes>"
      ]
     },
     "metadata": {},
     "output_type": "display_data"
    }
   ],
   "source": [
    "sns.displot(data = df, x = 'preanti')\n",
    "plt.xlabel('days pre-175 anti-retroviral therapy')\n",
    "plt.show()"
   ]
  },
  {
   "cell_type": "code",
   "execution_count": 31,
   "id": "560c16dc",
   "metadata": {},
   "outputs": [
    {
     "data": {
      "text/plain": [
       "12905"
      ]
     },
     "execution_count": 31,
     "metadata": {},
     "output_type": "execute_result"
    }
   ],
   "source": [
    "df[df['preanti'] == 0].shape[0]\n",
    "# Number of patients having preanti = 0"
   ]
  },
  {
   "cell_type": "code",
   "execution_count": 32,
   "id": "de43bf43",
   "metadata": {},
   "outputs": [
    {
     "data": {
      "text/plain": [
       "641"
      ]
     },
     "execution_count": 32,
     "metadata": {},
     "output_type": "execute_result"
    }
   ],
   "source": [
    "df[df['preanti'] == 1].shape[0]"
   ]
  },
  {
   "cell_type": "code",
   "execution_count": 33,
   "id": "217eae82",
   "metadata": {},
   "outputs": [
    {
     "data": {
      "text/plain": [
       "1"
      ]
     },
     "execution_count": 33,
     "metadata": {},
     "output_type": "execute_result"
    }
   ],
   "source": [
    "df[df['preanti'] == 2828].shape[0]"
   ]
  },
  {
   "cell_type": "code",
   "execution_count": 34,
   "id": "d01d4707",
   "metadata": {},
   "outputs": [
    {
     "data": {
      "image/png": "[encoded data removed]",
      "text/plain": [
       "<Figure size 640x480 with 1 Axes>"
      ]
     },
     "metadata": {},
     "output_type": "display_data"
    }
   ],
   "source": [
    "sns.boxplot(data = df, y = 'preanti', orient = 'v')\n",
    "plt.ylabel('days pre-175 anti-retroviral therapy')\n",
    "plt.show()"
   ]
  },
  {
   "cell_type": "code",
   "execution_count": 35,
   "id": "af55167a",
   "metadata": {},
   "outputs": [
    {
     "data": {
      "image/png": "[encoded data removed]",
      "text/plain": [
       "<Figure size 640x480 with 1 Axes>"
      ]
     },
     "metadata": {},
     "output_type": "display_data"
    }
   ],
   "source": [
    "sns.boxplot(y = 'cd40', data = df, saturation = 0.74, orient = 'v', color = 'm')\n",
    "plt.show()"
   ]
  },
  {
   "cell_type": "code",
   "execution_count": 36,
   "id": "30d2b228",
   "metadata": {},
   "outputs": [
    {
     "data": {
      "image/png": "[encoded data removed]",
      "text/plain": [
       "<Figure size 640x480 with 1 Axes>"
      ]
     },
     "metadata": {},
     "output_type": "display_data"
    }
   ],
   "source": [
    "sns.boxplot(y = 'cd420', data = df, saturation = 0.75, orient = 'v', color = 'g')\n",
    "plt.show()"
   ]
  },
  {
   "cell_type": "code",
   "execution_count": 37,
   "id": "0dfa9cbb",
   "metadata": {},
   "outputs": [
    {
     "data": {
      "image/png": "[encoded data removed]",
      "text/plain": [
       "<Figure size 640x480 with 1 Axes>"
      ]
     },
     "metadata": {},
     "output_type": "display_data"
    }
   ],
   "source": [
    "sns.boxplot(y = 'cd80', data = df, orient = 'v')\n",
    "plt.show()"
   ]
  },
  {
   "cell_type": "code",
   "execution_count": 38,
   "id": "77452a8b",
   "metadata": {
    "scrolled": false
   },
   "outputs": [
    {
     "data": {
      "image/png": "[encoded data removed]",
      "text/plain": [
       "<Figure size 640x480 with 1 Axes>"
      ]
     },
     "metadata": {},
     "output_type": "display_data"
    }
   ],
   "source": [
    "sns.boxplot(y = 'cd820', data = df, orient = 'v')\n",
    "plt.show()"
   ]
  },
  {
   "cell_type": "code",
   "execution_count": 39,
   "id": "c909a67f",
   "metadata": {},
   "outputs": [
    {
     "data": {
      "text/html": [
       "<div>\n",
       "<style scoped>\n",
       "    .dataframe tbody tr th:only-of-type {\n",
       "        vertical-align: middle;\n",
       "    }\n",
       "\n",
       "    .dataframe tbody tr th {\n",
       "        vertical-align: top;\n",
       "    }\n",
       "\n",
       "    .dataframe thead th {\n",
       "        text-align: right;\n",
       "    }\n",
       "</style>\n",
       "<table border=\"1\" class=\"dataframe\">\n",
       "  <thead>\n",
       "    <tr style=\"text-align: right;\">\n",
       "      <th></th>\n",
       "      <th>infected</th>\n",
       "    </tr>\n",
       "  </thead>\n",
       "  <tbody>\n",
       "    <tr>\n",
       "      <th>time</th>\n",
       "      <td>-0.102671</td>\n",
       "    </tr>\n",
       "    <tr>\n",
       "      <th>trt</th>\n",
       "      <td>-0.047112</td>\n",
       "    </tr>\n",
       "    <tr>\n",
       "      <th>age</th>\n",
       "      <td>0.028718</td>\n",
       "    </tr>\n",
       "    <tr>\n",
       "      <th>wtkg</th>\n",
       "      <td>-0.055527</td>\n",
       "    </tr>\n",
       "    <tr>\n",
       "      <th>hemo</th>\n",
       "      <td>0.026407</td>\n",
       "    </tr>\n",
       "    <tr>\n",
       "      <th>homo</th>\n",
       "      <td>-0.007341</td>\n",
       "    </tr>\n",
       "    <tr>\n",
       "      <th>drugs</th>\n",
       "      <td>-0.025684</td>\n",
       "    </tr>\n",
       "    <tr>\n",
       "      <th>karnof</th>\n",
       "      <td>-0.025860</td>\n",
       "    </tr>\n",
       "    <tr>\n",
       "      <th>oprior</th>\n",
       "      <td>0.043416</td>\n",
       "    </tr>\n",
       "    <tr>\n",
       "      <th>z30</th>\n",
       "      <td>0.238531</td>\n",
       "    </tr>\n",
       "    <tr>\n",
       "      <th>preanti</th>\n",
       "      <td>0.172826</td>\n",
       "    </tr>\n",
       "    <tr>\n",
       "      <th>race</th>\n",
       "      <td>-0.027914</td>\n",
       "    </tr>\n",
       "    <tr>\n",
       "      <th>gender</th>\n",
       "      <td>-0.022089</td>\n",
       "    </tr>\n",
       "    <tr>\n",
       "      <th>str2</th>\n",
       "      <td>0.237749</td>\n",
       "    </tr>\n",
       "    <tr>\n",
       "      <th>strat</th>\n",
       "      <td>0.251951</td>\n",
       "    </tr>\n",
       "    <tr>\n",
       "      <th>symptom</th>\n",
       "      <td>0.024994</td>\n",
       "    </tr>\n",
       "    <tr>\n",
       "      <th>treat</th>\n",
       "      <td>-0.056169</td>\n",
       "    </tr>\n",
       "    <tr>\n",
       "      <th>offtrt</th>\n",
       "      <td>-0.026563</td>\n",
       "    </tr>\n",
       "    <tr>\n",
       "      <th>cd40</th>\n",
       "      <td>-0.140689</td>\n",
       "    </tr>\n",
       "    <tr>\n",
       "      <th>cd420</th>\n",
       "      <td>-0.183028</td>\n",
       "    </tr>\n",
       "    <tr>\n",
       "      <th>cd80</th>\n",
       "      <td>-0.010172</td>\n",
       "    </tr>\n",
       "    <tr>\n",
       "      <th>cd820</th>\n",
       "      <td>-0.017166</td>\n",
       "    </tr>\n",
       "    <tr>\n",
       "      <th>infected</th>\n",
       "      <td>1.000000</td>\n",
       "    </tr>\n",
       "  </tbody>\n",
       "</table>\n",
       "</div>"
      ],
      "text/plain": [
       "          infected\n",
       "time     -0.102671\n",
       "trt      -0.047112\n",
       "age       0.028718\n",
       "wtkg     -0.055527\n",
       "hemo      0.026407\n",
       "homo     -0.007341\n",
       "drugs    -0.025684\n",
       "karnof   -0.025860\n",
       "oprior    0.043416\n",
       "z30       0.238531\n",
       "preanti   0.172826\n",
       "race     -0.027914\n",
       "gender   -0.022089\n",
       "str2      0.237749\n",
       "strat     0.251951\n",
       "symptom   0.024994\n",
       "treat    -0.056169\n",
       "offtrt   -0.026563\n",
       "cd40     -0.140689\n",
       "cd420    -0.183028\n",
       "cd80     -0.010172\n",
       "cd820    -0.017166\n",
       "infected  1.000000"
      ]
     },
     "execution_count": 39,
     "metadata": {},
     "output_type": "execute_result"
    }
   ],
   "source": [
    "infected_df = pd.DataFrame(df.corr()['infected'])\n",
    "infected_df"
   ]
  },
  {
   "cell_type": "code",
   "execution_count": 40,
   "id": "c9bc21a6",
   "metadata": {},
   "outputs": [],
   "source": [
    "# karnof has a weird distribution and it is not correlated to the target column as well\n",
    "# So I am getting rid of it\n",
    "\n",
    "df.drop('karnof', axis = 1, inplace = True)"
   ]
  },
  {
   "cell_type": "markdown",
   "id": "71cb2dca",
   "metadata": {},
   "source": [
    "# Models"
   ]
  },
  {
   "cell_type": "markdown",
   "id": "5eee5474",
   "metadata": {},
   "source": [
    "### First I am using Logistic Regression"
   ]
  },
  {
   "cell_type": "code",
   "execution_count": 41,
   "id": "fe3125f3",
   "metadata": {},
   "outputs": [],
   "source": [
    "from sklearn.linear_model import LogisticRegression\n",
    "\n",
    "from sklearn.model_selection import train_test_split\n",
    "X_train, X_test, y_train, y_test = train_test_split(X, y, test_size = 0.19, random_state = 20)"
   ]
  },
  {
   "cell_type": "code",
   "execution_count": 42,
   "id": "e354c414",
   "metadata": {},
   "outputs": [
    {
     "data": {
      "text/html": [
       "<style>#sk-container-id-1 {color: black;background-color: white;}#sk-container-id-1 pre{padding: 0;}#sk-container-id-1 div.sk-toggleable {background-color: white;}#sk-container-id-1 label.sk-toggleable__label {cursor: pointer;display: block;width: 100%;margin-bottom: 0;padding: 0.3em;box-sizing: border-box;text-align: center;}#sk-container-id-1 label.sk-toggleable__label-arrow:before {content: \"▸\";float: left;margin-right: 0.25em;color: #696969;}#sk-container-id-1 label.sk-toggleable__label-arrow:hover:before {color: black;}#sk-container-id-1 div.sk-estimator:hover label.sk-toggleable__label-arrow:before {color: black;}#sk-container-id-1 div.sk-toggleable__content {max-height: 0;max-width: 0;overflow: hidden;text-align: left;background-color: #f0f8ff;}#sk-container-id-1 div.sk-toggleable__content pre {margin: 0.2em;color: black;border-radius: 0.25em;background-color: #f0f8ff;}#sk-container-id-1 input.sk-toggleable__control:checked~div.sk-toggleable__content {max-height: 200px;max-width: 100%;overflow: auto;}#sk-container-id-1 input.sk-toggleable__control:checked~label.sk-toggleable__label-arrow:before {content: \"▾\";}#sk-container-id-1 div.sk-estimator input.sk-toggleable__control:checked~label.sk-toggleable__label {background-color: #d4ebff;}#sk-container-id-1 div.sk-label input.sk-toggleable__control:checked~label.sk-toggleable__label {background-color: #d4ebff;}#sk-container-id-1 input.sk-hidden--visually {border: 0;clip: rect(1px 1px 1px 1px);clip: rect(1px, 1px, 1px, 1px);height: 1px;margin: -1px;overflow: hidden;padding: 0;position: absolute;width: 1px;}#sk-container-id-1 div.sk-estimator {font-family: monospace;background-color: #f0f8ff;border: 1px dotted black;border-radius: 0.25em;box-sizing: border-box;margin-bottom: 0.5em;}#sk-container-id-1 div.sk-estimator:hover {background-color: #d4ebff;}#sk-container-id-1 div.sk-parallel-item::after {content: \"\";width: 100%;border-bottom: 1px solid gray;flex-grow: 1;}#sk-container-id-1 div.sk-label:hover label.sk-toggleable__label {background-color: #d4ebff;}#sk-container-id-1 div.sk-serial::before {content: \"\";position: absolute;border-left: 1px solid gray;box-sizing: border-box;top: 0;bottom: 0;left: 50%;z-index: 0;}#sk-container-id-1 div.sk-serial {display: flex;flex-direction: column;align-items: center;background-color: white;padding-right: 0.2em;padding-left: 0.2em;position: relative;}#sk-container-id-1 div.sk-item {position: relative;z-index: 1;}#sk-container-id-1 div.sk-parallel {display: flex;align-items: stretch;justify-content: center;background-color: white;position: relative;}#sk-container-id-1 div.sk-item::before, #sk-container-id-1 div.sk-parallel-item::before {content: \"\";position: absolute;border-left: 1px solid gray;box-sizing: border-box;top: 0;bottom: 0;left: 50%;z-index: -1;}#sk-container-id-1 div.sk-parallel-item {display: flex;flex-direction: column;z-index: 1;position: relative;background-color: white;}#sk-container-id-1 div.sk-parallel-item:first-child::after {align-self: flex-end;width: 50%;}#sk-container-id-1 div.sk-parallel-item:last-child::after {align-self: flex-start;width: 50%;}#sk-container-id-1 div.sk-parallel-item:only-child::after {width: 0;}#sk-container-id-1 div.sk-dashed-wrapped {border: 1px dashed gray;margin: 0 0.4em 0.5em 0.4em;box-sizing: border-box;padding-bottom: 0.4em;background-color: white;}#sk-container-id-1 div.sk-label label {font-family: monospace;font-weight: bold;display: inline-block;line-height: 1.2em;}#sk-container-id-1 div.sk-label-container {text-align: center;}#sk-container-id-1 div.sk-container {/* jupyter's `normalize.less` sets `[hidden] { display: none; }` but bootstrap.min.css set `[hidden] { display: none !important; }` so we also need the `!important` here to be able to override the default hidden behavior on the sphinx rendered scikit-learn.org. See: https://github.com/scikit-learn/scikit-learn/issues/21755 */display: inline-block !important;position: relative;}#sk-container-id-1 div.sk-text-repr-fallback {display: none;}</style><div id=\"sk-container-id-1\" class=\"sk-top-container\"><div class=\"sk-text-repr-fallback\"><pre>LogisticRegression(max_iter=1400)</pre><b>In a Jupyter environment, please rerun this cell to show the HTML representation or trust the notebook. <br />On GitHub, the HTML representation is unable to render, please try loading this page with nbviewer.org.</b></div><div class=\"sk-container\" hidden><div class=\"sk-item\"><div class=\"sk-estimator sk-toggleable\"><input class=\"sk-toggleable__control sk-hidden--visually\" id=\"sk-estimator-id-1\" type=\"checkbox\" checked><label for=\"sk-estimator-id-1\" class=\"sk-toggleable__label sk-toggleable__label-arrow\">LogisticRegression</label><div class=\"sk-toggleable__content\"><pre>LogisticRegression(max_iter=1400)</pre></div></div></div></div></div>"
      ],
      "text/plain": [
       "LogisticRegression(max_iter=1400)"
      ]
     },
     "execution_count": 42,
     "metadata": {},
     "output_type": "execute_result"
    }
   ],
   "source": [
    "log = LogisticRegression(max_iter = 1400)\n",
    "log.fit(X_train, y_train)"
   ]
  },
  {
   "cell_type": "code",
   "execution_count": 43,
   "id": "a61acdf8",
   "metadata": {},
   "outputs": [
    {
     "data": {
      "text/plain": [
       "(9500,)"
      ]
     },
     "execution_count": 43,
     "metadata": {},
     "output_type": "execute_result"
    }
   ],
   "source": [
    "y_pred_lr = log.predict(X_test)\n",
    "y_pred_lr.shape"
   ]
  },
  {
   "cell_type": "code",
   "execution_count": 44,
   "id": "1c6c2abb",
   "metadata": {
    "scrolled": true
   },
   "outputs": [
    {
     "name": "stdout",
     "output_type": "stream",
     "text": [
      "Accuracy of Logistic Regression :  0.7137894736842105\n"
     ]
    }
   ],
   "source": [
    "from sklearn.metrics import accuracy_score, confusion_matrix, classification_report\n",
    "\n",
    "print(\"Accuracy of Logistic Regression : \", accuracy_score(y_test, y_pred_lr))"
   ]
  },
  {
   "cell_type": "code",
   "execution_count": 45,
   "id": "012e2c2f",
   "metadata": {},
   "outputs": [
    {
     "name": "stdout",
     "output_type": "stream",
     "text": [
      "[[6090  478]\n",
      " [2241  691]]\n"
     ]
    }
   ],
   "source": [
    "print(confusion_matrix(y_test, y_pred_lr))"
   ]
  },
  {
   "cell_type": "code",
   "execution_count": 46,
   "id": "60b0a0f0",
   "metadata": {},
   "outputs": [
    {
     "name": "stdout",
     "output_type": "stream",
     "text": [
      "              precision    recall  f1-score   support\n",
      "\n",
      "           0       0.73      0.93      0.82      6568\n",
      "           1       0.59      0.24      0.34      2932\n",
      "\n",
      "    accuracy                           0.71      9500\n",
      "   macro avg       0.66      0.58      0.58      9500\n",
      "weighted avg       0.69      0.71      0.67      9500\n",
      "\n"
     ]
    }
   ],
   "source": [
    "print(classification_report(y_test, y_pred_lr))"
   ]
  },
  {
   "cell_type": "markdown",
   "id": "d803615a",
   "metadata": {},
   "source": [
    "### Using Decision Tree Classifier"
   ]
  },
  {
   "cell_type": "code",
   "execution_count": 47,
   "id": "43ec8fb1",
   "metadata": {},
   "outputs": [
    {
     "data": {
      "text/html": [
       "<style>#sk-container-id-2 {color: black;background-color: white;}#sk-container-id-2 pre{padding: 0;}#sk-container-id-2 div.sk-toggleable {background-color: white;}#sk-container-id-2 label.sk-toggleable__label {cursor: pointer;display: block;width: 100%;margin-bottom: 0;padding: 0.3em;box-sizing: border-box;text-align: center;}#sk-container-id-2 label.sk-toggleable__label-arrow:before {content: \"▸\";float: left;margin-right: 0.25em;color: #696969;}#sk-container-id-2 label.sk-toggleable__label-arrow:hover:before {color: black;}#sk-container-id-2 div.sk-estimator:hover label.sk-toggleable__label-arrow:before {color: black;}#sk-container-id-2 div.sk-toggleable__content {max-height: 0;max-width: 0;overflow: hidden;text-align: left;background-color: #f0f8ff;}#sk-container-id-2 div.sk-toggleable__content pre {margin: 0.2em;color: black;border-radius: 0.25em;background-color: #f0f8ff;}#sk-container-id-2 input.sk-toggleable__control:checked~div.sk-toggleable__content {max-height: 200px;max-width: 100%;overflow: auto;}#sk-container-id-2 input.sk-toggleable__control:checked~label.sk-toggleable__label-arrow:before {content: \"▾\";}#sk-container-id-2 div.sk-estimator input.sk-toggleable__control:checked~label.sk-toggleable__label {background-color: #d4ebff;}#sk-container-id-2 div.sk-label input.sk-toggleable__control:checked~label.sk-toggleable__label {background-color: #d4ebff;}#sk-container-id-2 input.sk-hidden--visually {border: 0;clip: rect(1px 1px 1px 1px);clip: rect(1px, 1px, 1px, 1px);height: 1px;margin: -1px;overflow: hidden;padding: 0;position: absolute;width: 1px;}#sk-container-id-2 div.sk-estimator {font-family: monospace;background-color: #f0f8ff;border: 1px dotted black;border-radius: 0.25em;box-sizing: border-box;margin-bottom: 0.5em;}#sk-container-id-2 div.sk-estimator:hover {background-color: #d4ebff;}#sk-container-id-2 div.sk-parallel-item::after {content: \"\";width: 100%;border-bottom: 1px solid gray;flex-grow: 1;}#sk-container-id-2 div.sk-label:hover label.sk-toggleable__label {background-color: #d4ebff;}#sk-container-id-2 div.sk-serial::before {content: \"\";position: absolute;border-left: 1px solid gray;box-sizing: border-box;top: 0;bottom: 0;left: 50%;z-index: 0;}#sk-container-id-2 div.sk-serial {display: flex;flex-direction: column;align-items: center;background-color: white;padding-right: 0.2em;padding-left: 0.2em;position: relative;}#sk-container-id-2 div.sk-item {position: relative;z-index: 1;}#sk-container-id-2 div.sk-parallel {display: flex;align-items: stretch;justify-content: center;background-color: white;position: relative;}#sk-container-id-2 div.sk-item::before, #sk-container-id-2 div.sk-parallel-item::before {content: \"\";position: absolute;border-left: 1px solid gray;box-sizing: border-box;top: 0;bottom: 0;left: 50%;z-index: -1;}#sk-container-id-2 div.sk-parallel-item {display: flex;flex-direction: column;z-index: 1;position: relative;background-color: white;}#sk-container-id-2 div.sk-parallel-item:first-child::after {align-self: flex-end;width: 50%;}#sk-container-id-2 div.sk-parallel-item:last-child::after {align-self: flex-start;width: 50%;}#sk-container-id-2 div.sk-parallel-item:only-child::after {width: 0;}#sk-container-id-2 div.sk-dashed-wrapped {border: 1px dashed gray;margin: 0 0.4em 0.5em 0.4em;box-sizing: border-box;padding-bottom: 0.4em;background-color: white;}#sk-container-id-2 div.sk-label label {font-family: monospace;font-weight: bold;display: inline-block;line-height: 1.2em;}#sk-container-id-2 div.sk-label-container {text-align: center;}#sk-container-id-2 div.sk-container {/* jupyter's `normalize.less` sets `[hidden] { display: none; }` but bootstrap.min.css set `[hidden] { display: none !important; }` so we also need the `!important` here to be able to override the default hidden behavior on the sphinx rendered scikit-learn.org. See: https://github.com/scikit-learn/scikit-learn/issues/21755 */display: inline-block !important;position: relative;}#sk-container-id-2 div.sk-text-repr-fallback {display: none;}</style><div id=\"sk-container-id-2\" class=\"sk-top-container\"><div class=\"sk-text-repr-fallback\"><pre>DecisionTreeClassifier()</pre><b>In a Jupyter environment, please rerun this cell to show the HTML representation or trust the notebook. <br />On GitHub, the HTML representation is unable to render, please try loading this page with nbviewer.org.</b></div><div class=\"sk-container\" hidden><div class=\"sk-item\"><div class=\"sk-estimator sk-toggleable\"><input class=\"sk-toggleable__control sk-hidden--visually\" id=\"sk-estimator-id-2\" type=\"checkbox\" checked><label for=\"sk-estimator-id-2\" class=\"sk-toggleable__label sk-toggleable__label-arrow\">DecisionTreeClassifier</label><div class=\"sk-toggleable__content\"><pre>DecisionTreeClassifier()</pre></div></div></div></div></div>"
      ],
      "text/plain": [
       "DecisionTreeClassifier()"
      ]
     },
     "execution_count": 47,
     "metadata": {},
     "output_type": "execute_result"
    }
   ],
   "source": [
    "from sklearn.tree import DecisionTreeClassifier\n",
    "from sklearn.model_selection import GridSearchCV\n",
    "\n",
    "dt = DecisionTreeClassifier()\n",
    "dt.fit(X_train, y_train)"
   ]
  },
  {
   "cell_type": "code",
   "execution_count": 48,
   "id": "71aebd51",
   "metadata": {},
   "outputs": [],
   "source": [
    "tree_params = [{'min_samples_leaf': [100, 125, 140, 160], 'max_features': [None, 9, 13, 16],\n",
    "                'min_samples_split': [100, 200, 300, 400]}]"
   ]
  },
  {
   "cell_type": "code",
   "execution_count": 49,
   "id": "ad3bb2fe",
   "metadata": {},
   "outputs": [],
   "source": [
    "tree_search = GridSearchCV(estimator = dt, param_grid = tree_params, cv = 10, scoring = 'accuracy')\n",
    "tree_search = tree_search.fit(X_train, y_train)"
   ]
  },
  {
   "cell_type": "code",
   "execution_count": 50,
   "id": "f73bc00f",
   "metadata": {},
   "outputs": [
    {
     "data": {
      "text/plain": [
       "0.7004938271604939"
      ]
     },
     "execution_count": 50,
     "metadata": {},
     "output_type": "execute_result"
    }
   ],
   "source": [
    "tree_search.best_score_"
   ]
  },
  {
   "cell_type": "code",
   "execution_count": 51,
   "id": "6d9b2e76",
   "metadata": {},
   "outputs": [
    {
     "data": {
      "text/plain": [
       "{'max_features': 13, 'min_samples_leaf': 160, 'min_samples_split': 100}"
      ]
     },
     "execution_count": 51,
     "metadata": {},
     "output_type": "execute_result"
    }
   ],
   "source": [
    "tree_search.best_params_"
   ]
  },
  {
   "cell_type": "code",
   "execution_count": 53,
   "id": "b5bace24",
   "metadata": {},
   "outputs": [
    {
     "data": {
      "text/html": [
       "<style>#sk-container-id-3 {color: black;background-color: white;}#sk-container-id-3 pre{padding: 0;}#sk-container-id-3 div.sk-toggleable {background-color: white;}#sk-container-id-3 label.sk-toggleable__label {cursor: pointer;display: block;width: 100%;margin-bottom: 0;padding: 0.3em;box-sizing: border-box;text-align: center;}#sk-container-id-3 label.sk-toggleable__label-arrow:before {content: \"▸\";float: left;margin-right: 0.25em;color: #696969;}#sk-container-id-3 label.sk-toggleable__label-arrow:hover:before {color: black;}#sk-container-id-3 div.sk-estimator:hover label.sk-toggleable__label-arrow:before {color: black;}#sk-container-id-3 div.sk-toggleable__content {max-height: 0;max-width: 0;overflow: hidden;text-align: left;background-color: #f0f8ff;}#sk-container-id-3 div.sk-toggleable__content pre {margin: 0.2em;color: black;border-radius: 0.25em;background-color: #f0f8ff;}#sk-container-id-3 input.sk-toggleable__control:checked~div.sk-toggleable__content {max-height: 200px;max-width: 100%;overflow: auto;}#sk-container-id-3 input.sk-toggleable__control:checked~label.sk-toggleable__label-arrow:before {content: \"▾\";}#sk-container-id-3 div.sk-estimator input.sk-toggleable__control:checked~label.sk-toggleable__label {background-color: #d4ebff;}#sk-container-id-3 div.sk-label input.sk-toggleable__control:checked~label.sk-toggleable__label {background-color: #d4ebff;}#sk-container-id-3 input.sk-hidden--visually {border: 0;clip: rect(1px 1px 1px 1px);clip: rect(1px, 1px, 1px, 1px);height: 1px;margin: -1px;overflow: hidden;padding: 0;position: absolute;width: 1px;}#sk-container-id-3 div.sk-estimator {font-family: monospace;background-color: #f0f8ff;border: 1px dotted black;border-radius: 0.25em;box-sizing: border-box;margin-bottom: 0.5em;}#sk-container-id-3 div.sk-estimator:hover {background-color: #d4ebff;}#sk-container-id-3 div.sk-parallel-item::after {content: \"\";width: 100%;border-bottom: 1px solid gray;flex-grow: 1;}#sk-container-id-3 div.sk-label:hover label.sk-toggleable__label {background-color: #d4ebff;}#sk-container-id-3 div.sk-serial::before {content: \"\";position: absolute;border-left: 1px solid gray;box-sizing: border-box;top: 0;bottom: 0;left: 50%;z-index: 0;}#sk-container-id-3 div.sk-serial {display: flex;flex-direction: column;align-items: center;background-color: white;padding-right: 0.2em;padding-left: 0.2em;position: relative;}#sk-container-id-3 div.sk-item {position: relative;z-index: 1;}#sk-container-id-3 div.sk-parallel {display: flex;align-items: stretch;justify-content: center;background-color: white;position: relative;}#sk-container-id-3 div.sk-item::before, #sk-container-id-3 div.sk-parallel-item::before {content: \"\";position: absolute;border-left: 1px solid gray;box-sizing: border-box;top: 0;bottom: 0;left: 50%;z-index: -1;}#sk-container-id-3 div.sk-parallel-item {display: flex;flex-direction: column;z-index: 1;position: relative;background-color: white;}#sk-container-id-3 div.sk-parallel-item:first-child::after {align-self: flex-end;width: 50%;}#sk-container-id-3 div.sk-parallel-item:last-child::after {align-self: flex-start;width: 50%;}#sk-container-id-3 div.sk-parallel-item:only-child::after {width: 0;}#sk-container-id-3 div.sk-dashed-wrapped {border: 1px dashed gray;margin: 0 0.4em 0.5em 0.4em;box-sizing: border-box;padding-bottom: 0.4em;background-color: white;}#sk-container-id-3 div.sk-label label {font-family: monospace;font-weight: bold;display: inline-block;line-height: 1.2em;}#sk-container-id-3 div.sk-label-container {text-align: center;}#sk-container-id-3 div.sk-container {/* jupyter's `normalize.less` sets `[hidden] { display: none; }` but bootstrap.min.css set `[hidden] { display: none !important; }` so we also need the `!important` here to be able to override the default hidden behavior on the sphinx rendered scikit-learn.org. See: https://github.com/scikit-learn/scikit-learn/issues/21755 */display: inline-block !important;position: relative;}#sk-container-id-3 div.sk-text-repr-fallback {display: none;}</style><div id=\"sk-container-id-3\" class=\"sk-top-container\"><div class=\"sk-text-repr-fallback\"><pre>DecisionTreeClassifier(max_features=13, min_samples_leaf=160,\n",
       "                       min_samples_split=100)</pre><b>In a Jupyter environment, please rerun this cell to show the HTML representation or trust the notebook. <br />On GitHub, the HTML representation is unable to render, please try loading this page with nbviewer.org.</b></div><div class=\"sk-container\" hidden><div class=\"sk-item\"><div class=\"sk-estimator sk-toggleable\"><input class=\"sk-toggleable__control sk-hidden--visually\" id=\"sk-estimator-id-3\" type=\"checkbox\" checked><label for=\"sk-estimator-id-3\" class=\"sk-toggleable__label sk-toggleable__label-arrow\">DecisionTreeClassifier</label><div class=\"sk-toggleable__content\"><pre>DecisionTreeClassifier(max_features=13, min_samples_leaf=160,\n",
       "                       min_samples_split=100)</pre></div></div></div></div></div>"
      ],
      "text/plain": [
       "DecisionTreeClassifier(max_features=13, min_samples_leaf=160,\n",
       "                       min_samples_split=100)"
      ]
     },
     "execution_count": 53,
     "metadata": {},
     "output_type": "execute_result"
    }
   ],
   "source": [
    "dt = DecisionTreeClassifier(min_samples_leaf = 160, max_features = 13, min_samples_split = 100)\n",
    "dt.fit(X_train, y_train)"
   ]
  },
  {
   "cell_type": "code",
   "execution_count": 54,
   "id": "a0c3c237",
   "metadata": {},
   "outputs": [
    {
     "data": {
      "text/plain": [
       "array([0, 0, 0, ..., 0, 0, 0], dtype=int64)"
      ]
     },
     "execution_count": 54,
     "metadata": {},
     "output_type": "execute_result"
    }
   ],
   "source": [
    "y_pred_dt = dt.predict(X_test)\n",
    "y_pred_dt"
   ]
  },
  {
   "cell_type": "code",
   "execution_count": 55,
   "id": "b8e8fb24",
   "metadata": {},
   "outputs": [
    {
     "name": "stdout",
     "output_type": "stream",
     "text": [
      "Accuracy of Decision Tree :  0.6992631578947368\n"
     ]
    }
   ],
   "source": [
    "print(\"Accuracy of Decision Tree : \", accuracy_score(y_test, y_pred_dt))"
   ]
  },
  {
   "cell_type": "code",
   "execution_count": 56,
   "id": "452342c2",
   "metadata": {},
   "outputs": [
    {
     "name": "stdout",
     "output_type": "stream",
     "text": [
      "              precision    recall  f1-score   support\n",
      "\n",
      "           0       0.72      0.91      0.81      6568\n",
      "           1       0.53      0.23      0.32      2932\n",
      "\n",
      "    accuracy                           0.70      9500\n",
      "   macro avg       0.63      0.57      0.56      9500\n",
      "weighted avg       0.66      0.70      0.66      9500\n",
      "\n"
     ]
    }
   ],
   "source": [
    "print(classification_report(y_test, y_pred_dt))"
   ]
  },
  {
   "cell_type": "markdown",
   "id": "c99e32f8",
   "metadata": {},
   "source": [
    "### Now using Naive Bayes"
   ]
  },
  {
   "cell_type": "code",
   "execution_count": 57,
   "id": "f8c33afb",
   "metadata": {},
   "outputs": [
    {
     "name": "stdout",
     "output_type": "stream",
     "text": [
      "Accuracy of Gaussian Naive Bayes :  0.6613684210526316\n"
     ]
    }
   ],
   "source": [
    "from sklearn.naive_bayes import GaussianNB\n",
    "gnb = GaussianNB()\n",
    "\n",
    "gnb.fit(X_train, y_train)\n",
    "\n",
    "y_pred_gnb = gnb.predict(X_test)\n",
    "\n",
    "print(\"Accuracy of Gaussian Naive Bayes : \", accuracy_score(y_test, y_pred_gnb))"
   ]
  },
  {
   "cell_type": "code",
   "execution_count": 58,
   "id": "666edb9c",
   "metadata": {},
   "outputs": [
    {
     "name": "stdout",
     "output_type": "stream",
     "text": [
      "              precision    recall  f1-score   support\n",
      "\n",
      "           0       0.79      0.70      0.74      6568\n",
      "           1       0.46      0.58      0.51      2932\n",
      "\n",
      "    accuracy                           0.66      9500\n",
      "   macro avg       0.62      0.64      0.63      9500\n",
      "weighted avg       0.69      0.66      0.67      9500\n",
      "\n"
     ]
    }
   ],
   "source": [
    "print(classification_report(y_test, y_pred_gnb))"
   ]
  },
  {
   "cell_type": "code",
   "execution_count": 59,
   "id": "bcefd251",
   "metadata": {},
   "outputs": [],
   "source": [
    "# Gaussian Naive Bayes has a lower accuracy as compared to Logistic regression and Decision tree\n",
    "# but it has a better recall and f1-score for the cases where AIDS was found (1)."
   ]
  },
  {
   "cell_type": "markdown",
   "id": "4910fa44",
   "metadata": {},
   "source": [
    "### Now I am going to use K Nearest Neighbors\n",
    "### So I am first going to scale the data"
   ]
  },
  {
   "cell_type": "code",
   "execution_count": 60,
   "id": "a8d26bfa",
   "metadata": {},
   "outputs": [],
   "source": [
    "from sklearn.preprocessing import RobustScaler\n",
    "robust = RobustScaler()\n",
    "\n",
    "# Robust scaler is used because there are a lot of outliers in columns like cd40, cd420, preanti, etc.\n",
    "\n",
    "X_train_rb = robust.fit_transform(X_train)\n",
    "X_test_rb = robust.transform(X_test)"
   ]
  },
  {
   "cell_type": "code",
   "execution_count": 61,
   "id": "cf688cce",
   "metadata": {},
   "outputs": [],
   "source": [
    "from sklearn.neighbors import KNeighborsClassifier"
   ]
  },
  {
   "cell_type": "code",
   "execution_count": 62,
   "id": "76192326",
   "metadata": {
    "scrolled": true
   },
   "outputs": [
    {
     "data": {
      "text/plain": [
       "[0.3047368421052632,\n",
       " 0.3053684210526316,\n",
       " 0.3047368421052632,\n",
       " 0.3052631578947368,\n",
       " 0.3056842105263158,\n",
       " 0.3053684210526316,\n",
       " 0.30494736842105263,\n",
       " 0.30410526315789477,\n",
       " 0.3032631578947368,\n",
       " 0.30315789473684207,\n",
       " 0.3037894736842105,\n",
       " 0.30305263157894735,\n",
       " 0.3023157894736842,\n",
       " 0.30294736842105263,\n",
       " 0.30315789473684207,\n",
       " 0.3013684210526316,\n",
       " 0.3038947368421052,\n",
       " 0.30210526315789477,\n",
       " 0.30315789473684207,\n",
       " 0.3043157894736842,\n",
       " 0.30315789473684207,\n",
       " 0.3028421052631579,\n",
       " 0.30347368421052634,\n",
       " 0.30357894736842106,\n",
       " 0.3042105263157895,\n",
       " 0.3017894736842105,\n",
       " 0.3028421052631579,\n",
       " 0.30252631578947364,\n",
       " 0.30410526315789477,\n",
       " 0.3042105263157895,\n",
       " 0.30357894736842106,\n",
       " 0.3008421052631579,\n",
       " 0.3026315789473685,\n",
       " 0.30063157894736847,\n",
       " 0.3028421052631579,\n",
       " 0.3004210526315789,\n",
       " 0.3037894736842105,\n",
       " 0.3022105263157895,\n",
       " 0.30410526315789477,\n",
       " 0.3032631578947368,\n",
       " 0.3038947368421052,\n",
       " 0.30410526315789477,\n",
       " 0.3046315789473685,\n",
       " 0.3043157894736842,\n",
       " 0.3053684210526316,\n",
       " 0.3042105263157895,\n",
       " 0.30452631578947364,\n",
       " 0.30347368421052634,\n",
       " 0.3044210526315789,\n",
       " 0.3026315789473685,\n",
       " 0.3036842105263158,\n",
       " 0.3024210526315789,\n",
       " 0.3044210526315789,\n",
       " 0.30305263157894735,\n",
       " 0.30347368421052634,\n",
       " 0.3017894736842105,\n",
       " 0.30315789473684207,\n",
       " 0.3026315789473685,\n",
       " 0.30294736842105263,\n",
       " 0.30252631578947364]"
      ]
     },
     "execution_count": 62,
     "metadata": {},
     "output_type": "execute_result"
    }
   ],
   "source": [
    "test_error_rates = []\n",
    "\n",
    "for k in range(30, 90):\n",
    "    knn_mod = KNeighborsClassifier(n_neighbors = k)\n",
    "    knn_mod.fit(X_train, y_train)\n",
    "    \n",
    "    y_pred_test = knn_mod.predict(X_test)\n",
    "    test_error1 = 1 - accuracy_score(y_test, y_pred_test)\n",
    "    test_error_rates.append(test_error1)\n",
    "\n",
    "test_error_rates"
   ]
  },
  {
   "cell_type": "code",
   "execution_count": 63,
   "id": "cf0d3440",
   "metadata": {},
   "outputs": [
    {
     "data": {
      "image/png": "[encoded data removed]",
      "text/plain": [
       "<Figure size 1200x700 with 1 Axes>"
      ]
     },
     "metadata": {},
     "output_type": "display_data"
    }
   ],
   "source": [
    "plt.figure(figsize = (12, 7))\n",
    "plt.plot(range(30, 90), test_error_rates)\n",
    "plt.xlabel('Value of k')\n",
    "plt.ylabel('Error')\n",
    "plt.title(\"Line graph for searching lowest error rate\")\n",
    "plt.show()"
   ]
  },
  {
   "cell_type": "code",
   "execution_count": 64,
   "id": "da9a8616",
   "metadata": {},
   "outputs": [
    {
     "name": "stdout",
     "output_type": "stream",
     "text": [
      "Minimum value: 0.3004210526315789\n",
      "Index of minimum value: 65\n"
     ]
    }
   ],
   "source": [
    "min_value = 1000\n",
    "min_index = -1\n",
    "\n",
    "for index, value in enumerate(test_error_rates):\n",
    "    if value < min_value:\n",
    "        min_value = value\n",
    "        min_index = index\n",
    "\n",
    "print(\"Minimum value:\", min_value)\n",
    "print(\"Index of minimum value:\", 30 + min_index)\n"
   ]
  },
  {
   "cell_type": "code",
   "execution_count": 65,
   "id": "2aad9cd5",
   "metadata": {},
   "outputs": [],
   "source": [
    "# The rates are not fluctuating too much now\n",
    "# I think this much iteration is fine"
   ]
  },
  {
   "cell_type": "code",
   "execution_count": 66,
   "id": "a2e1ad58",
   "metadata": {},
   "outputs": [
    {
     "data": {
      "text/plain": [
       "0.6946315789473684"
      ]
     },
     "execution_count": 66,
     "metadata": {},
     "output_type": "execute_result"
    }
   ],
   "source": [
    "knn = KNeighborsClassifier(n_neighbors = min_index)\n",
    "knn.fit(X_train, y_train)\n",
    "prediction = knn.predict(X_test)\n",
    "accuracy_score(y_test, prediction)"
   ]
  },
  {
   "cell_type": "code",
   "execution_count": 67,
   "id": "a8c1fd39",
   "metadata": {},
   "outputs": [
    {
     "name": "stdout",
     "output_type": "stream",
     "text": [
      "              precision    recall  f1-score   support\n",
      "\n",
      "           0       0.71      0.94      0.81      6568\n",
      "           1       0.52      0.15      0.23      2932\n",
      "\n",
      "    accuracy                           0.69      9500\n",
      "   macro avg       0.62      0.54      0.52      9500\n",
      "weighted avg       0.65      0.69      0.63      9500\n",
      "\n"
     ]
    }
   ],
   "source": [
    "print(classification_report(y_test, prediction))"
   ]
  },
  {
   "cell_type": "markdown",
   "id": "bcead11c",
   "metadata": {},
   "source": [
    "### Now I will apply Voting ensemble to make a collective prediction out of all the models"
   ]
  },
  {
   "cell_type": "code",
   "execution_count": 68,
   "id": "6dc28d5c",
   "metadata": {},
   "outputs": [],
   "source": [
    "from sklearn.ensemble import VotingClassifier\n",
    "\n",
    "models = [('lr', log), ('dt', dt), ('gnb', gnb), ('knn', knn)]"
   ]
  },
  {
   "cell_type": "code",
   "execution_count": 69,
   "id": "da364bdb",
   "metadata": {
    "scrolled": false
   },
   "outputs": [],
   "source": [
    "clf = VotingClassifier(estimators = models, voting = 'hard')\n",
    "clf = clf.fit(X_train, y_train)\n",
    "vote_pred = clf.predict(X_test)"
   ]
  },
  {
   "cell_type": "code",
   "execution_count": 70,
   "id": "c20b4233",
   "metadata": {},
   "outputs": [
    {
     "name": "stdout",
     "output_type": "stream",
     "text": [
      "Hard voting accuracy :  0.7111578947368421\n"
     ]
    }
   ],
   "source": [
    "print(\"Hard voting accuracy : \", accuracy_score(y_test, vote_pred))"
   ]
  },
  {
   "cell_type": "code",
   "execution_count": 71,
   "id": "56f273cb",
   "metadata": {},
   "outputs": [
    {
     "name": "stdout",
     "output_type": "stream",
     "text": [
      "              precision    recall  f1-score   support\n",
      "\n",
      "           0       0.72      0.94      0.82      6568\n",
      "           1       0.60      0.20      0.30      2932\n",
      "\n",
      "    accuracy                           0.71      9500\n",
      "   macro avg       0.66      0.57      0.56      9500\n",
      "weighted avg       0.68      0.71      0.66      9500\n",
      "\n"
     ]
    }
   ],
   "source": [
    "print(classification_report(y_test, vote_pred))"
   ]
  },
  {
   "cell_type": "code",
   "execution_count": 72,
   "id": "5df5e293",
   "metadata": {},
   "outputs": [],
   "source": [
    "parameters = [{'weights': [[2, 2, 1, 2], [2, 2, 4, 1], [2, 2, 3, 1], [3, 3, 2, 1]]}]\n",
    "search = GridSearchCV(estimator = clf, param_grid = parameters, scoring = 'recall', cv = 4)\n",
    "\n",
    "search = search.fit(X_train, y_train)"
   ]
  },
  {
   "cell_type": "code",
   "execution_count": 73,
   "id": "9b880584",
   "metadata": {},
   "outputs": [
    {
     "data": {
      "text/plain": [
       "0.33609005006480736"
      ]
     },
     "execution_count": 73,
     "metadata": {},
     "output_type": "execute_result"
    }
   ],
   "source": [
    "search.best_score_"
   ]
  },
  {
   "cell_type": "code",
   "execution_count": 74,
   "id": "5732a3e7",
   "metadata": {},
   "outputs": [
    {
     "data": {
      "text/plain": [
       "{'weights': [2, 2, 4, 1]}"
      ]
     },
     "execution_count": 74,
     "metadata": {},
     "output_type": "execute_result"
    }
   ],
   "source": [
    "search.best_params_"
   ]
  },
  {
   "cell_type": "code",
   "execution_count": 75,
   "id": "3d898e99",
   "metadata": {},
   "outputs": [
    {
     "name": "stdout",
     "output_type": "stream",
     "text": [
      "Weighted voting accuracy :  0.7077894736842105\n"
     ]
    }
   ],
   "source": [
    "clf2 = VotingClassifier(estimators = models, voting = 'hard', weights = [2, 2, 4, 1])\n",
    "clf2 = clf2.fit(X_train, y_train)\n",
    "weighted_vote_pred = clf2.predict(X_test)\n",
    "\n",
    "print(\"Weighted voting accuracy : \", accuracy_score(y_test, weighted_vote_pred))"
   ]
  },
  {
   "cell_type": "code",
   "execution_count": 76,
   "id": "7952eb03",
   "metadata": {},
   "outputs": [
    {
     "name": "stdout",
     "output_type": "stream",
     "text": [
      "              precision    recall  f1-score   support\n",
      "\n",
      "           0       0.75      0.87      0.80      6568\n",
      "           1       0.54      0.35      0.42      2932\n",
      "\n",
      "    accuracy                           0.71      9500\n",
      "   macro avg       0.65      0.61      0.61      9500\n",
      "weighted avg       0.68      0.71      0.69      9500\n",
      "\n"
     ]
    }
   ],
   "source": [
    "print(classification_report(y_test, weighted_vote_pred))"
   ]
  },
  {
   "cell_type": "markdown",
   "id": "3dff080c",
   "metadata": {},
   "source": [
    "Here I am getting a decent accuracy and the recall & f1 scores aren't too bad either"
   ]
  }
 ],
 "metadata": {
  "kernelspec": {
   "display_name": "Python 3 (ipykernel)",
   "language": "python",
   "name": "python3"
  },
  "language_info": {
   "codemirror_mode": {
    "name": "ipython",
    "version": 3
   },
   "file_extension": ".py",
   "mimetype": "text/x-python",
   "name": "python",
   "nbconvert_exporter": "python",
   "pygments_lexer": "ipython3",
   "version": "3.10.9"
  }
 },
 "nbformat": 4,
 "nbformat_minor": 5
}
